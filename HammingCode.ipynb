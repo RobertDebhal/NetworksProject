{
 "cells": [
  {
   "cell_type": "code",
   "execution_count": 1,
   "metadata": {},
   "outputs": [
    {
     "name": "stdout",
     "output_type": "stream",
     "text": [
      "Please type a sequence of 1's and 0's not separated by spaces: 010101\n"
     ]
    }
   ],
   "source": [
    "message = input(\"Please type a sequence of 1's and 0's not separated by spaces: \")"
   ]
  },
  {
   "cell_type": "code",
   "execution_count": 2,
   "metadata": {
    "collapsed": true
   },
   "outputs": [],
   "source": [
    "def check_bit(message,index):\n",
    "    sum=0\n",
    "    for i in range(index-1,len(message),index*2):\n",
    "        for i in message[i:i+index]:\n",
    "            sum+=int(i)\n",
    "    check_bit=str(sum%2)\n",
    "    return check_bit "
   ]
  },
  {
   "cell_type": "code",
   "execution_count": 3,
   "metadata": {
    "collapsed": true
   },
   "outputs": [],
   "source": [
    "def hamming_code(message):\n",
    "    temp_message=message\n",
    "    for i in range(min(16,len(message))):\n",
    "        #\n",
    "        if i==0 or i==1 or i==3 or i==7 or i==15:\n",
    "            temp_message=temp_message[:i]+'0'+temp_message[i:]\n",
    "    for i in range(min(16,len(message))):\n",
    "        if i==0 or i==1 or i==3 or i==7 or i==15:\n",
    "            message=message[:i]+check_bit(temp_message,i+1)+message[i:]\n",
    "    return message"
   ]
  },
  {
   "cell_type": "code",
   "execution_count": 4,
   "metadata": {},
   "outputs": [
    {
     "name": "stdout",
     "output_type": "stream",
     "text": [
      "1010011111000100111110100\n"
     ]
    }
   ],
   "source": [
    "print(hamming_code('10111100010111110100'))"
   ]
  },
  {
   "cell_type": "code",
   "execution_count": 5,
   "metadata": {},
   "outputs": [
    {
     "name": "stdout",
     "output_type": "stream",
     "text": [
      "1110101101101110010010000\n"
     ]
    }
   ],
   "source": [
    "print(hamming_code('11010110111010010000'))"
   ]
  },
  {
   "cell_type": "code",
   "execution_count": 6,
   "metadata": {},
   "outputs": [
    {
     "name": "stdout",
     "output_type": "stream",
     "text": [
      "1010011111000100111110100\n"
     ]
    }
   ],
   "source": [
    "print(hamming_code('10111100010111110100'))"
   ]
  },
  {
   "cell_type": "code",
   "execution_count": 7,
   "metadata": {},
   "outputs": [
    {
     "name": "stdout",
     "output_type": "stream",
     "text": [
      "0100101\n"
     ]
    }
   ],
   "source": [
    "print(hamming_code('0101'))"
   ]
  },
  {
   "cell_type": "code",
   "execution_count": null,
   "metadata": {
    "collapsed": true
   },
   "outputs": [],
   "source": []
  }
 ],
 "metadata": {
  "kernelspec": {
   "display_name": "Python 3",
   "language": "python",
   "name": "python3"
  },
  "language_info": {
   "codemirror_mode": {
    "name": "ipython",
    "version": 3
   },
   "file_extension": ".py",
   "mimetype": "text/x-python",
   "name": "python",
   "nbconvert_exporter": "python",
   "pygments_lexer": "ipython3",
   "version": "3.6.3"
  }
 },
 "nbformat": 4,
 "nbformat_minor": 2
}
