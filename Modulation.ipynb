{
 "cells": [
  {
   "cell_type": "code",
   "execution_count": 1,
   "metadata": {},
   "outputs": [
    {
     "name": "stdout",
     "output_type": "stream",
     "text": [
      "Please type a sequence of 1's and 0's not separated by spaces: 1010110011010101010011100101010101010101\n"
     ]
    }
   ],
   "source": [
    "message = input(\"Please type a sequence of 1's and 0's not separated by spaces: \")"
   ]
  },
  {
   "cell_type": "code",
   "execution_count": 2,
   "metadata": {
    "collapsed": true
   },
   "outputs": [],
   "source": [
    "fourbfiveb = {'0000':'11110','0001':'01001','0010':'10100','0011':'10101','0100':'01010','0101':'01011',\n",
    "              '0110':'01110','0111':'01111','1000':'10010','1001':'10011','1010':'10110','1011':'10111',\n",
    "             '1100':'11010','1101':'11011','1110':'11100','1111':'11101'}"
   ]
  },
  {
   "cell_type": "code",
   "execution_count": 3,
   "metadata": {
    "collapsed": true
   },
   "outputs": [],
   "source": [
    "def modulation(message):\n",
    "    new_message = \"\"\n",
    "    temp = \"\"\n",
    "    if len(message)>4:\n",
    "        for i in range (0,len(message),4):\n",
    "            temp=message[i:i+4]\n",
    "            new_message+=fourbfiveb[temp]\n",
    "    return new_message"
   ]
  },
  {
   "cell_type": "code",
   "execution_count": 4,
   "metadata": {
    "collapsed": true
   },
   "outputs": [],
   "source": [
    "def is_binary(message):\n",
    "    for i in message:\n",
    "        if i=='0' or i=='1':\n",
    "            continue\n",
    "        else:\n",
    "            return False\n",
    "    return True"
   ]
  },
  {
   "cell_type": "code",
   "execution_count": 5,
   "metadata": {},
   "outputs": [
    {
     "name": "stdout",
     "output_type": "stream",
     "text": [
      "New message is:  10110110101101101011010101110001011010110101101011\n"
     ]
    }
   ],
   "source": [
    "if is_binary(message):\n",
    "    if len(message)>=4 and len(message)%4==0: \n",
    "        print(\"New message is: \",modulation(message))\n",
    "    else:\n",
    "        print(\"Message must be a multiple of four in length\")\n",
    "else:\n",
    "    print(\"Message must a sequence of 1's and 0's not separated by spaces\")"
   ]
  }
 ],
 "metadata": {
  "kernelspec": {
   "display_name": "Python 3",
   "language": "python",
   "name": "python3"
  },
  "language_info": {
   "codemirror_mode": {
    "name": "ipython",
    "version": 3
   },
   "file_extension": ".py",
   "mimetype": "text/x-python",
   "name": "python",
   "nbconvert_exporter": "python",
   "pygments_lexer": "ipython3",
   "version": "3.6.3"
  }
 },
 "nbformat": 4,
 "nbformat_minor": 2
}
