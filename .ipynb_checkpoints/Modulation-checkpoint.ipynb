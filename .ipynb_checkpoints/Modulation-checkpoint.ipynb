{
 "cells": [
  {
   "cell_type": "code",
   "execution_count": 2,
   "metadata": {},
   "outputs": [
    {
     "name": "stdout",
     "output_type": "stream",
     "text": [
      "Please type a sequence of 1's and 0's not separated by spaces: 100110011001\n"
     ]
    }
   ],
   "source": [
    "message = input(\"Please type a sequence of 1's and 0's not separated by spaces: \")"
   ]
  },
  {
   "cell_type": "code",
   "execution_count": 3,
   "metadata": {},
   "outputs": [],
   "source": [
    "fourbfiveb = {'0000':'11110','0001':'01001','0010':'10100','0011':'10101','0100':'01010','0101':'01011',\n",
    "              '0110':'01110','0111':'01111','1000':'10010','1001':'10011','1010':'10110','1011':'10111',\n",
    "             '1100':'11010','1101':'11011','1110':'11100','1111':'11101'}"
   ]
  },
  {
   "cell_type": "code",
   "execution_count": 4,
   "metadata": {
    "collapsed": true
   },
   "outputs": [],
   "source": [
    "new_message = \"\""
   ]
  },
  {
   "cell_type": "code",
   "execution_count": 5,
   "metadata": {
    "collapsed": true
   },
   "outputs": [],
   "source": [
    "temp = \"\""
   ]
  },
  {
   "cell_type": "code",
   "execution_count": 6,
   "metadata": {},
   "outputs": [],
   "source": [
    "if len(message)>4:\n",
    "    for i in range (0,len(message),4):\n",
    "        temp=message[i:i+4]\n",
    "        new_message+=fourbfiveb[temp]\n",
    "    "
   ]
  },
  {
   "cell_type": "code",
   "execution_count": 7,
   "metadata": {},
   "outputs": [
    {
     "name": "stdout",
     "output_type": "stream",
     "text": [
      "New message is:  100111001110011\n"
     ]
    }
   ],
   "source": [
    "print(\"New message is: \",new_message)"
   ]
  }
 ],
 "metadata": {
  "kernelspec": {
   "display_name": "Python 3",
   "language": "python",
   "name": "python3"
  },
  "language_info": {
   "codemirror_mode": {
    "name": "ipython",
    "version": 3
   },
   "file_extension": ".py",
   "mimetype": "text/x-python",
   "name": "python",
   "nbconvert_exporter": "python",
   "pygments_lexer": "ipython3",
   "version": "3.6.3"
  }
 },
 "nbformat": 4,
 "nbformat_minor": 2
}
